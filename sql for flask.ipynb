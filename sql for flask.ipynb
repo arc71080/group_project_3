{
 "cells": [
  {
   "cell_type": "code",
   "execution_count": 1,
   "id": "f723e87a",
   "metadata": {},
   "outputs": [],
   "source": [
    "# Python SQL toolkit and Object Relational Mapper\n",
    "import sqlalchemy\n",
    "from sqlalchemy.ext.automap import automap_base\n",
    "from sqlalchemy.orm import Session\n",
    "from sqlalchemy import create_engine, func\n",
    "from sqlalchemy import create_engine, text\n",
    "from sqlalchemy import Column, Integer, String, Float\n",
    "from sqlalchemy import create_engine, inspect\n",
    "from sqlalchemy.ext.declarative import declarative_base\n",
    "Base = declarative_base()"
   ]
  },
  {
   "cell_type": "code",
   "execution_count": 2,
   "id": "7259c356",
   "metadata": {},
   "outputs": [],
   "source": [
    "# create engine to hawaii.sqlite\n",
    "engine = create_engine(\"sqlite:///shooting.sqlite\", echo=False)\n",
    "conn = engine.connect()"
   ]
  },
  {
   "cell_type": "code",
   "execution_count": 3,
   "id": "7b37f899",
   "metadata": {},
   "outputs": [
    {
     "data": {
      "text/plain": [
       "['county_pop2022', 'passenger', 'population2022', 'shootings']"
      ]
     },
     "execution_count": 3,
     "metadata": {},
     "output_type": "execute_result"
    }
   ],
   "source": [
    "inspector = inspect(engine)\n",
    "inspector.get_table_names() "
   ]
  },
  {
   "cell_type": "code",
   "execution_count": null,
   "id": "680558df",
   "metadata": {},
   "outputs": [],
   "source": [
    "columns = inspector.get_columns('shootings')\n",
    "for column in columns:\n",
    "    print(column[\"name\"], column[\"type\"])"
   ]
  },
  {
   "cell_type": "code",
   "execution_count": null,
   "id": "2cbdc9e1",
   "metadata": {},
   "outputs": [],
   "source": [
    "engine.execute(text('SELECT * FROM population2022')).fetchall()"
   ]
  },
  {
   "cell_type": "code",
   "execution_count": null,
   "id": "1d55fdd0",
   "metadata": {},
   "outputs": [],
   "source": [
    "Base.metadata.create_all(engine)\n",
    "\n",
    "session = Session(bind=engine)"
   ]
  },
  {
   "cell_type": "code",
   "execution_count": null,
   "id": "e3e7a1c3",
   "metadata": {},
   "outputs": [],
   "source": [
    "query = text(\"SELECT * FROM population2022\", conn)\n",
    "shootings = engine.execute(query)\n",
    "\n",
    "for record in shootings:\n",
    "    print(record)"
   ]
  },
  {
   "cell_type": "code",
   "execution_count": null,
   "id": "aa8d1c15",
   "metadata": {},
   "outputs": [],
   "source": [
    "query = text(\"SELECT * FROM shootings\", conn)\n",
    "shootings = engine.execute(query)\n",
    "\n",
    "for record in shootings:\n",
    "    print(record)"
   ]
  },
  {
   "cell_type": "code",
   "execution_count": 7,
   "id": "48dcb456",
   "metadata": {},
   "outputs": [
    {
     "data": {
      "text/plain": [
       "['county_pop2022', 'passenger', 'population2022', 'shootings']"
      ]
     },
     "execution_count": 7,
     "metadata": {},
     "output_type": "execute_result"
    }
   ],
   "source": [
    "# reflect an existing database into a new model\n",
    "Base = automap_base()\n",
    "Base.prepare(autoload_with=engine)\n",
    "Base.classes.keys()"
   ]
  },
  {
   "cell_type": "code",
   "execution_count": 9,
   "id": "62a8cd03",
   "metadata": {},
   "outputs": [],
   "source": [
    "# Save references to each table\n",
    "passenger = Base.classes.passenger\n",
    "shooting = Base.classes.shootings"
   ]
  },
  {
   "cell_type": "code",
   "execution_count": null,
   "id": "0c75932f",
   "metadata": {},
   "outputs": [],
   "source": [
    "# Create our session (link) from Python to the DB\n",
    "session = Session(engine)"
   ]
  },
  {
   "cell_type": "code",
   "execution_count": null,
   "id": "0ba65ab8",
   "metadata": {},
   "outputs": [],
   "source": []
  }
 ],
 "metadata": {
  "kernelspec": {
   "display_name": "dev",
   "language": "python",
   "name": "dev"
  },
  "language_info": {
   "codemirror_mode": {
    "name": "ipython",
    "version": 3
   },
   "file_extension": ".py",
   "mimetype": "text/x-python",
   "name": "python",
   "nbconvert_exporter": "python",
   "pygments_lexer": "ipython3",
   "version": "3.10.12"
  }
 },
 "nbformat": 4,
 "nbformat_minor": 5
}
